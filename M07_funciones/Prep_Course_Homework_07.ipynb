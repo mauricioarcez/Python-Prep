{
 "cells": [
  {
   "attachments": {},
   "cell_type": "markdown",
   "metadata": {},
   "source": [
    "## Funciones"
   ]
  },
  {
   "attachments": {},
   "cell_type": "markdown",
   "metadata": {},
   "source": [
    "1) Crear una función que reciba un número como parámetro y devuelva True si es primo y False si no lo es"
   ]
  },
  {
   "cell_type": "code",
   "execution_count": 9,
   "metadata": {},
   "outputs": [
    {
     "name": "stdout",
     "output_type": "stream",
     "text": [
      "True\n",
      "Help on function primo in module __main__:\n",
      "\n",
      "primo(x)\n",
      "    Indica si un numero es primo o no\n",
      "\n"
     ]
    }
   ],
   "source": [
    "def primo(x):\n",
    "    '''Indica si un numero es primo o no'''\n",
    "    primo = True\n",
    "    for i in range(2,x):\n",
    "        if x % i == 0:\n",
    "            primo = False\n",
    "            break\n",
    "    return(primo)\n",
    "\n",
    "print(primo(7))"
   ]
  },
  {
   "attachments": {},
   "cell_type": "markdown",
   "metadata": {},
   "source": [
    "2) Utilizando la función del punto 1, realizar otra función que reciba de parámetro una lista de números y devuelva sólo aquellos que son primos en otra lista"
   ]
  },
  {
   "cell_type": "code",
   "execution_count": 10,
   "metadata": {},
   "outputs": [
    {
     "data": {
      "text/plain": [
       "[1, 2, 3, 5, 7, 11, 13, 17, 19]"
      ]
     },
     "execution_count": 10,
     "metadata": {},
     "output_type": "execute_result"
    }
   ],
   "source": [
    "numeros = [1,2,3,4,5,6,7,8,9,10,11,12,13,14,15,16,17,18,19,20]\n",
    "\n",
    "\n",
    "def lista_primos(lista):\n",
    "    ''' al pasarle una lista de numeros devuelve una nueva lista con solo los numeros primos'''\n",
    "    nueva = []\n",
    "    for i in lista:\n",
    "        if primo(i) == True:\n",
    "            nueva.append(i)\n",
    "    return nueva\n",
    "\n",
    "lista_primos(numeros)\n"
   ]
  },
  {
   "attachments": {},
   "cell_type": "markdown",
   "metadata": {},
   "source": [
    "3) Crear una función que al recibir una lista de números, devuelva el que más se repite y cuántas veces lo hace. Si hay más de un \"más repetido\", que devuelva cualquiera"
   ]
  },
  {
   "cell_type": "code",
   "execution_count": 25,
   "metadata": {},
   "outputs": [
    {
     "data": {
      "text/plain": [
       "'El valor que mas se repite es 3 con 3 repeticiones'"
      ]
     },
     "execution_count": 25,
     "metadata": {},
     "output_type": "execute_result"
    }
   ],
   "source": [
    "aleatorios = [1,2,3,5,6,7,3,5,3]\n",
    "\n",
    "def mas_repetido(lista):\n",
    "    '''ingresa una lista de numeros y retorna cual fue el numeros mas repetido y cuantas veces se repitio'''\n",
    "    mayor = [2]\n",
    "    repetidor = []\n",
    "    for i in lista:\n",
    "        contador = lista.count(i)\n",
    "        if contador > mayor[-1]:\n",
    "            mayor.append(i)\n",
    "            repetidor.append(contador)\n",
    "    \n",
    "    return f'El valor que mas se repite es {mayor[-1]} con {repetidor[-1]} repeticiones'\n",
    "        \n",
    "mas_repetido(aleatorios)\n",
    "  "
   ]
  },
  {
   "attachments": {},
   "cell_type": "markdown",
   "metadata": {},
   "source": [
    "4) Crear una función que convierta entre grados Celsius, Farenheit y Kelvin<br>\n",
    "Fórmula 1\t: (°C × 9/5) + 32 = °F<br>\n",
    "Fórmula 2\t: °C + 273.15 = °K<br>\n",
    "Debe recibir 3 parámetros: el valor, la medida de orígen y la medida de destino\n"
   ]
  },
  {
   "cell_type": "code",
   "execution_count": 33,
   "metadata": {},
   "outputs": [
    {
     "data": {
      "text/plain": [
       "313.15"
      ]
     },
     "execution_count": 33,
     "metadata": {},
     "output_type": "execute_result"
    }
   ],
   "source": [
    "def conversor(valor,origen,destino):\n",
    "    if destino == \"Farenheit\" and origen == \"Celsius\":\n",
    "        Farenheit = (valor * 9/5) + 32\n",
    "        return Farenheit\n",
    "    elif destino == \"Farenheit\" and origen == \"Kelvin\":\n",
    "        Farenheit = 9/5 * (valor - 273.15)\n",
    "        return Farenheit\n",
    "    elif destino == \"Kelvin\" and origen == \"Celsius\":\n",
    "        Kelvin = valor + 273.15\n",
    "        return Kelvin\n",
    "    elif destino == \"Kelvin\" and origen == \"Farenheit\":\n",
    "        Kelvin = (((valor - 32)*5)/9) + 273\n",
    "        return Kelvin\n",
    "    elif destino == \"Celsius\" and origen == \"Farenheit\":\n",
    "        Celsius = 5/9 * (valor - 32)\n",
    "        return Celsius\n",
    "    elif destino == \"Celsius\" and origen == \"Kelvin\":\n",
    "        Celsius = 273.15 - valor\n",
    "        return Celsius\n",
    "    elif destino == \"Celsius\" and origen == \"Celsius\":\n",
    "        return 1\n",
    "    elif destino == 'Farenheit' and origen == 'Farenheit':\n",
    "        return 1\n",
    "    elif destino == 'Kelvin' and origen == 'Kelvin':\n",
    "        return 1\n",
    "    else:\n",
    "        return 'Los valores de origen/destino disponibles son Farenheit,Celsius,Kelvin. Ten cuidado con las mayusculas'\n",
    "    \n",
    "conversor(40,'Celsius','Kelvin')"
   ]
  },
  {
   "attachments": {},
   "cell_type": "markdown",
   "metadata": {},
   "source": [
    "5) Iterando una lista con los tres valores posibles de temperatura que recibe la función del punto 5, hacer un print para cada combinación de los mismos:"
   ]
  },
  {
   "cell_type": "code",
   "execution_count": 34,
   "metadata": {},
   "outputs": [
    {
     "name": "stdout",
     "output_type": "stream",
     "text": [
      "1 grado Celsius a Celsius: 1\n",
      "1 grado Celsius a Kelvin: 274.15\n",
      "1 grado Celsius a Farenheit: 33.8\n",
      "1 grado Kelvin a Celsius: 272.15\n",
      "1 grado Kelvin a Kelvin: 1\n",
      "1 grado Kelvin a Farenheit: -489.86999999999995\n",
      "1 grado Farenheit a Celsius: -17.22222222222222\n",
      "1 grado Farenheit a Kelvin: 255.77777777777777\n",
      "1 grado Farenheit a Farenheit: 1\n"
     ]
    }
   ],
   "source": [
    "print('1 grado Celsius a Celsius:', conversor(1, 'Celsius', 'Celsius'))\n",
    "print('1 grado Celsius a Kelvin:', conversor(1, 'Celsius', 'Kelvin'))\n",
    "print('1 grado Celsius a Farenheit:', conversor(1, 'Celsius', 'Farenheit'))\n",
    "print('1 grado Kelvin a Celsius:', conversor(1, 'Kelvin', 'Celsius'))\n",
    "print('1 grado Kelvin a Kelvin:', conversor(1, 'Kelvin', 'Kelvin'))\n",
    "print('1 grado Kelvin a Farenheit:', conversor(1, 'Kelvin', 'Farenheit'))\n",
    "print('1 grado Farenheit a Celsius:', conversor(1, 'Farenheit', 'Celsius'))\n",
    "print('1 grado Farenheit a Kelvin:', conversor(1, 'Farenheit', 'Kelvin'))\n",
    "print('1 grado Farenheit a Farenheit:', conversor(1, 'Farenheit', 'Farenheit'))"
   ]
  },
  {
   "attachments": {},
   "cell_type": "markdown",
   "metadata": {},
   "source": [
    "6) Armar una función que devuelva el factorial de un número. Tener en cuenta que el usuario puede equivocarse y enviar de parámetro un número no entero o negativo"
   ]
  },
  {
   "cell_type": "code",
   "execution_count": 73,
   "metadata": {},
   "outputs": [
    {
     "data": {
      "text/plain": [
       "720"
      ]
     },
     "execution_count": 73,
     "metadata": {},
     "output_type": "execute_result"
    }
   ],
   "source": [
    "def factorial(numero):\n",
    "    if (numero < 1):\n",
    "        return 'debe ser positivo'\n",
    "    if type(numero) != int:\n",
    "        return 'debe ser un entero'\n",
    "    if numero <= 1:\n",
    "        return 1  \n",
    "    numero = numero * factorial(numero - 1)\n",
    "    return numero\n",
    "\n",
    "factorial(6)"
   ]
  }
 ],
 "metadata": {
  "interpreter": {
   "hash": "c85384e4cb51c8b72350f3a8712cc8351fdc3955e32a27f9b60c6242ab125f01"
  },
  "kernelspec": {
   "display_name": "Python 3 (ipykernel)",
   "language": "python",
   "name": "python3"
  },
  "language_info": {
   "codemirror_mode": {
    "name": "ipython",
    "version": 3
   },
   "file_extension": ".py",
   "mimetype": "text/x-python",
   "name": "python",
   "nbconvert_exporter": "python",
   "pygments_lexer": "ipython3",
   "version": "3.12.0"
  }
 },
 "nbformat": 4,
 "nbformat_minor": 4
}
